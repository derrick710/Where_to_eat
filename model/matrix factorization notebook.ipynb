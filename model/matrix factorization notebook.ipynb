{
 "cells": [
  {
   "cell_type": "code",
   "execution_count": 1,
   "metadata": {},
   "outputs": [
    {
     "name": "stderr",
     "output_type": "stream",
     "text": [
      "[nltk_data] Downloading package stopwords to\n",
      "[nltk_data]     C:\\Users\\admin\\AppData\\Roaming\\nltk_data...\n",
      "[nltk_data]   Package stopwords is already up-to-date!\n"
     ]
    }
   ],
   "source": [
    "from nltk.corpus import stopwords\n",
    "from nltk.tokenize import WordPunctTokenizer\n",
    "import string\n",
    "import pandas as pd\n",
    "import nltk \n",
    "import numpy as np\n",
    "nltk.download('stopwords')\n",
    "from sklearn.feature_extraction.text import TfidfVectorizer"
   ]
  },
  {
   "cell_type": "code",
   "execution_count": 2,
   "metadata": {},
   "outputs": [],
   "source": [
    "df_business = pd.read_csv('../data_snapshot/business_snap.csv')\n",
    "\n",
    "df_review = pd.read_csv('../data_snapshot/review_snap.csv')\n",
    "df_business.rename(columns={\"0\":'id', '1':'alias', '2':'name', '3':'url', '4':'review_count', '5':'phone', '6':'distance','7':'latitude','8':'longitude', '9':'rating', '10':'categories', '11':'transactions'}, inplace = True)\n",
    "df_review.rename(columns={'0':'review_id', '1':'text', '2': 'rating','3':'time_created', '4':'user_id','5':'business_id' }, inplace=True)"
   ]
  },
  {
   "cell_type": "code",
   "execution_count": 3,
   "metadata": {},
   "outputs": [
    {
     "data": {
      "text/html": [
       "<div>\n",
       "<style scoped>\n",
       "    .dataframe tbody tr th:only-of-type {\n",
       "        vertical-align: middle;\n",
       "    }\n",
       "\n",
       "    .dataframe tbody tr th {\n",
       "        vertical-align: top;\n",
       "    }\n",
       "\n",
       "    .dataframe thead th {\n",
       "        text-align: right;\n",
       "    }\n",
       "</style>\n",
       "<table border=\"1\" class=\"dataframe\">\n",
       "  <thead>\n",
       "    <tr style=\"text-align: right;\">\n",
       "      <th></th>\n",
       "      <th>Unnamed: 0</th>\n",
       "      <th>review_id</th>\n",
       "      <th>text</th>\n",
       "      <th>rating</th>\n",
       "      <th>time_created</th>\n",
       "      <th>user_id</th>\n",
       "      <th>business_id</th>\n",
       "    </tr>\n",
       "  </thead>\n",
       "  <tbody>\n",
       "    <tr>\n",
       "      <th>0</th>\n",
       "      <td>0</td>\n",
       "      <td>1XyJMWQ0fgWszG69vh3INA</td>\n",
       "      <td>Was seated and waited 30 mins without even bei...</td>\n",
       "      <td>1</td>\n",
       "      <td>2023-06-25 11:22:45</td>\n",
       "      <td>WRUIUIVkz7F5IiH7XI8QcA</td>\n",
       "      <td>NaN</td>\n",
       "    </tr>\n",
       "    <tr>\n",
       "      <th>1</th>\n",
       "      <td>1</td>\n",
       "      <td>H4FhOjFivi4aMxeddxMPGg</td>\n",
       "      <td>ROASTED CHICKEN &amp; GOAT CHEESE PANINI \\n16.50 ~...</td>\n",
       "      <td>5</td>\n",
       "      <td>2023-06-24 19:37:16</td>\n",
       "      <td>y0wA70QDTUeKS_VyLw7A7A</td>\n",
       "      <td>NaN</td>\n",
       "    </tr>\n",
       "    <tr>\n",
       "      <th>2</th>\n",
       "      <td>2</td>\n",
       "      <td>qLzO2mwYN3ti8dvAfpxePw</td>\n",
       "      <td>All the vibes!!  We dropped in on a Saturday w...</td>\n",
       "      <td>4</td>\n",
       "      <td>2023-04-30 07:04:01</td>\n",
       "      <td>LDoa3UXbySRr0b2pcwrlnw</td>\n",
       "      <td>NaN</td>\n",
       "    </tr>\n",
       "    <tr>\n",
       "      <th>3</th>\n",
       "      <td>3</td>\n",
       "      <td>dONpgM2St8gaCZdnaWiTKw</td>\n",
       "      <td>I was so excited about the Food Truck Fest whe...</td>\n",
       "      <td>5</td>\n",
       "      <td>2014-08-16 19:45:05</td>\n",
       "      <td>7DCwwpe524F2AqZqTUGExg</td>\n",
       "      <td>NaN</td>\n",
       "    </tr>\n",
       "    <tr>\n",
       "      <th>4</th>\n",
       "      <td>4</td>\n",
       "      <td>V4d7QNZtIbCfMXYcgR5LhA</td>\n",
       "      <td>This is the best Mexican restaurant in Gahanna...</td>\n",
       "      <td>5</td>\n",
       "      <td>2023-05-31 03:41:00</td>\n",
       "      <td>7v5WWyFCONwphGxWqlncEw</td>\n",
       "      <td>NaN</td>\n",
       "    </tr>\n",
       "  </tbody>\n",
       "</table>\n",
       "</div>"
      ],
      "text/plain": [
       "   Unnamed: 0               review_id  \\\n",
       "0           0  1XyJMWQ0fgWszG69vh3INA   \n",
       "1           1  H4FhOjFivi4aMxeddxMPGg   \n",
       "2           2  qLzO2mwYN3ti8dvAfpxePw   \n",
       "3           3  dONpgM2St8gaCZdnaWiTKw   \n",
       "4           4  V4d7QNZtIbCfMXYcgR5LhA   \n",
       "\n",
       "                                                text  rating  \\\n",
       "0  Was seated and waited 30 mins without even bei...       1   \n",
       "1  ROASTED CHICKEN & GOAT CHEESE PANINI \\n16.50 ~...       5   \n",
       "2  All the vibes!!  We dropped in on a Saturday w...       4   \n",
       "3  I was so excited about the Food Truck Fest whe...       5   \n",
       "4  This is the best Mexican restaurant in Gahanna...       5   \n",
       "\n",
       "          time_created                 user_id business_id  \n",
       "0  2023-06-25 11:22:45  WRUIUIVkz7F5IiH7XI8QcA         NaN  \n",
       "1  2023-06-24 19:37:16  y0wA70QDTUeKS_VyLw7A7A         NaN  \n",
       "2  2023-04-30 07:04:01  LDoa3UXbySRr0b2pcwrlnw         NaN  \n",
       "3  2014-08-16 19:45:05  7DCwwpe524F2AqZqTUGExg         NaN  \n",
       "4  2023-05-31 03:41:00  7v5WWyFCONwphGxWqlncEw         NaN  "
      ]
     },
     "execution_count": 3,
     "metadata": {},
     "output_type": "execute_result"
    }
   ],
   "source": [
    "df_review.head()"
   ]
  },
  {
   "cell_type": "code",
   "execution_count": 4,
   "metadata": {},
   "outputs": [
    {
     "data": {
      "text/plain": [
       "Unnamed: 0      0\n",
       "id              0\n",
       "alias           0\n",
       "name            0\n",
       "url             0\n",
       "review_count    0\n",
       "phone           0\n",
       "distance        0\n",
       "latitude        0\n",
       "longitude       0\n",
       "rating          0\n",
       "categories      0\n",
       "transactions    0\n",
       "dtype: int64"
      ]
     },
     "execution_count": 4,
     "metadata": {},
     "output_type": "execute_result"
    }
   ],
   "source": [
    "df_business.dropna(inplace=True)\n",
    "df_business.isna().sum()"
   ]
  },
  {
   "cell_type": "code",
   "execution_count": 5,
   "metadata": {},
   "outputs": [
    {
     "data": {
      "text/plain": [
       "Index(['Unnamed: 0', 'id', 'alias', 'name', 'url', 'review_count', 'phone',\n",
       "       'distance', 'latitude', 'longitude', 'rating', 'categories',\n",
       "       'transactions'],\n",
       "      dtype='object')"
      ]
     },
     "execution_count": 5,
     "metadata": {},
     "output_type": "execute_result"
    }
   ],
   "source": [
    "df_business.columns"
   ]
  },
  {
   "cell_type": "code",
   "execution_count": 10,
   "metadata": {},
   "outputs": [
    {
     "data": {
      "text/html": [
       "<div>\n",
       "<style scoped>\n",
       "    .dataframe tbody tr th:only-of-type {\n",
       "        vertical-align: middle;\n",
       "    }\n",
       "\n",
       "    .dataframe tbody tr th {\n",
       "        vertical-align: top;\n",
       "    }\n",
       "\n",
       "    .dataframe thead th {\n",
       "        text-align: right;\n",
       "    }\n",
       "</style>\n",
       "<table border=\"1\" class=\"dataframe\">\n",
       "  <thead>\n",
       "    <tr style=\"text-align: right;\">\n",
       "      <th></th>\n",
       "      <th>business_id</th>\n",
       "      <th>text</th>\n",
       "      <th>rating</th>\n",
       "      <th>user_id</th>\n",
       "    </tr>\n",
       "  </thead>\n",
       "  <tbody>\n",
       "    <tr>\n",
       "      <th>42</th>\n",
       "      <td>35VgbRQWRDvQrIku3OfqKA</td>\n",
       "      <td>Used to go here all the time before the new ow...</td>\n",
       "      <td>4</td>\n",
       "      <td>tYT1kCLO8qEkEUFGClQQRg</td>\n",
       "    </tr>\n",
       "    <tr>\n",
       "      <th>43</th>\n",
       "      <td>35VgbRQWRDvQrIku3OfqKA</td>\n",
       "      <td>We do love this local place. Today, we went fo...</td>\n",
       "      <td>5</td>\n",
       "      <td>cAJJC0U8s22Wm3aPROw5SQ</td>\n",
       "    </tr>\n",
       "    <tr>\n",
       "      <th>44</th>\n",
       "      <td>35VgbRQWRDvQrIku3OfqKA</td>\n",
       "      <td>Okay for lunch, typical bar food. Server was s...</td>\n",
       "      <td>4</td>\n",
       "      <td>k4biYB5Tavw-dwn-6tVbmA</td>\n",
       "    </tr>\n",
       "    <tr>\n",
       "      <th>45</th>\n",
       "      <td>pW6jIK9Vu18vXigPTfNwUQ</td>\n",
       "      <td>We went here for taco and tequila fest. Paid $...</td>\n",
       "      <td>3</td>\n",
       "      <td>Wu1hrty56b_dZDfLBaXJRg</td>\n",
       "    </tr>\n",
       "    <tr>\n",
       "      <th>46</th>\n",
       "      <td>pW6jIK9Vu18vXigPTfNwUQ</td>\n",
       "      <td>Absolute trash. Go if you want to get assaulte...</td>\n",
       "      <td>1</td>\n",
       "      <td>WKllrAlPeSjX-ZM-XofDzA</td>\n",
       "    </tr>\n",
       "    <tr>\n",
       "      <th>47</th>\n",
       "      <td>pW6jIK9Vu18vXigPTfNwUQ</td>\n",
       "      <td>Oh, Park Street Cantina, I don't even know whe...</td>\n",
       "      <td>3</td>\n",
       "      <td>_NpJZ0q8KVI-d2YLL_VpCA</td>\n",
       "    </tr>\n",
       "    <tr>\n",
       "      <th>48</th>\n",
       "      <td>BDe-iiPm9Gb7B2qCzlQWCg</td>\n",
       "      <td>Excellent customer service! This is my wife's ...</td>\n",
       "      <td>5</td>\n",
       "      <td>7DCwwpe524F2AqZqTUGExg</td>\n",
       "    </tr>\n",
       "    <tr>\n",
       "      <th>49</th>\n",
       "      <td>BDe-iiPm9Gb7B2qCzlQWCg</td>\n",
       "      <td>I ordered the strawberry cake for a birthday p...</td>\n",
       "      <td>5</td>\n",
       "      <td>gxOLcPG1VqMmCPDTWxZ5KQ</td>\n",
       "    </tr>\n",
       "    <tr>\n",
       "      <th>50</th>\n",
       "      <td>BDe-iiPm9Gb7B2qCzlQWCg</td>\n",
       "      <td>Service is poor (young lady didn't listen well...</td>\n",
       "      <td>4</td>\n",
       "      <td>Q4LI1r0RWbpYWgvnhIYqRQ</td>\n",
       "    </tr>\n",
       "    <tr>\n",
       "      <th>51</th>\n",
       "      <td>CzVVb1PRNRlYk7PDvw8xSg</td>\n",
       "      <td>With new management breathing fresh air into t...</td>\n",
       "      <td>5</td>\n",
       "      <td>Wx4ccSvTc2GG5aYbosaokA</td>\n",
       "    </tr>\n",
       "    <tr>\n",
       "      <th>53</th>\n",
       "      <td>CzVVb1PRNRlYk7PDvw8xSg</td>\n",
       "      <td>Food...\\nIf you eat upstairs, you will be wait...</td>\n",
       "      <td>4</td>\n",
       "      <td>IwFzSRfVeHrgxxYvSxqSEQ</td>\n",
       "    </tr>\n",
       "    <tr>\n",
       "      <th>54</th>\n",
       "      <td>sv4wzbSTKg7tsIgutBtrBg</td>\n",
       "      <td>This park can be found hidden beneath the stre...</td>\n",
       "      <td>4</td>\n",
       "      <td>_NpJZ0q8KVI-d2YLL_VpCA</td>\n",
       "    </tr>\n",
       "    <tr>\n",
       "      <th>55</th>\n",
       "      <td>sv4wzbSTKg7tsIgutBtrBg</td>\n",
       "      <td>Glen Echo is a fun ravine to explore, nestled ...</td>\n",
       "      <td>5</td>\n",
       "      <td>_Kplrc1bDTce2Pw3xRr51A</td>\n",
       "    </tr>\n",
       "    <tr>\n",
       "      <th>57</th>\n",
       "      <td>sv4wzbSTKg7tsIgutBtrBg</td>\n",
       "      <td>I'm pretty shocked that I was born and raised ...</td>\n",
       "      <td>5</td>\n",
       "      <td>WJfsYXAgwEo6Wkpuqjmqnw</td>\n",
       "    </tr>\n",
       "    <tr>\n",
       "      <th>58</th>\n",
       "      <td>7MFm-vxs8hB1hk6VCthwGw</td>\n",
       "      <td>I've been to a couple places similar to aligne...</td>\n",
       "      <td>5</td>\n",
       "      <td>yZjCfp5tg7-rYiTtiwSrzA</td>\n",
       "    </tr>\n",
       "    <tr>\n",
       "      <th>59</th>\n",
       "      <td>7MFm-vxs8hB1hk6VCthwGw</td>\n",
       "      <td>Each shake comes w a tea. The medium 24oz size...</td>\n",
       "      <td>4</td>\n",
       "      <td>sNHrXB7aTHYpdaGb0pIV9g</td>\n",
       "    </tr>\n",
       "    <tr>\n",
       "      <th>60</th>\n",
       "      <td>7MFm-vxs8hB1hk6VCthwGw</td>\n",
       "      <td>My boyfriend brought me here after a workout t...</td>\n",
       "      <td>4</td>\n",
       "      <td>UnTN_ktr9vpbhgyuGNwpgg</td>\n",
       "    </tr>\n",
       "    <tr>\n",
       "      <th>61</th>\n",
       "      <td>DLYOvwEIQcl555mDR3p05A</td>\n",
       "      <td>Front desk staff was friendly and they have a ...</td>\n",
       "      <td>4</td>\n",
       "      <td>jKjvxNE3JI0BugGOhFNQEw</td>\n",
       "    </tr>\n",
       "    <tr>\n",
       "      <th>62</th>\n",
       "      <td>DLYOvwEIQcl555mDR3p05A</td>\n",
       "      <td>I've been Bowling at this alley since it was B...</td>\n",
       "      <td>5</td>\n",
       "      <td>1fb-ERPS4Kpkxo2fowmlbg</td>\n",
       "    </tr>\n",
       "    <tr>\n",
       "      <th>63</th>\n",
       "      <td>DLYOvwEIQcl555mDR3p05A</td>\n",
       "      <td>Been here a couple times, great! Food is a lit...</td>\n",
       "      <td>5</td>\n",
       "      <td>crb-G-e-rwtx75oLG1L65A</td>\n",
       "    </tr>\n",
       "    <tr>\n",
       "      <th>64</th>\n",
       "      <td>qF2D6-jN9b1TZYEalKALsQ</td>\n",
       "      <td>Excellent Excellent place.  Clean, bright, gre...</td>\n",
       "      <td>5</td>\n",
       "      <td>5SYD87gd4-7f4YHs1UZaYA</td>\n",
       "    </tr>\n",
       "    <tr>\n",
       "      <th>65</th>\n",
       "      <td>qF2D6-jN9b1TZYEalKALsQ</td>\n",
       "      <td>Food was good and fresh but this place is more...</td>\n",
       "      <td>3</td>\n",
       "      <td>syqQgE4KDLqmf7k68Psnpw</td>\n",
       "    </tr>\n",
       "    <tr>\n",
       "      <th>66</th>\n",
       "      <td>qF2D6-jN9b1TZYEalKALsQ</td>\n",
       "      <td>The restaurant has been closed for several mon...</td>\n",
       "      <td>4</td>\n",
       "      <td>Ns3j7EYpEt0pQvb8p2tGVw</td>\n",
       "    </tr>\n",
       "    <tr>\n",
       "      <th>67</th>\n",
       "      <td>yvtU5tHbFLnm-ZLCQvMEeA</td>\n",
       "      <td>This could be the most perfectly paired tastin...</td>\n",
       "      <td>5</td>\n",
       "      <td>0Ge4hEQ8HYnrkfm8UHj2BQ</td>\n",
       "    </tr>\n",
       "    <tr>\n",
       "      <th>68</th>\n",
       "      <td>yvtU5tHbFLnm-ZLCQvMEeA</td>\n",
       "      <td>Open bar/food/whatever = wow! Big thanks to ev...</td>\n",
       "      <td>5</td>\n",
       "      <td>4rA-ZWXUcW9FkVhzuL5SQQ</td>\n",
       "    </tr>\n",
       "    <tr>\n",
       "      <th>69</th>\n",
       "      <td>yvtU5tHbFLnm-ZLCQvMEeA</td>\n",
       "      <td>I'm brand new to Yelp Columbus since I moved a...</td>\n",
       "      <td>5</td>\n",
       "      <td>xVVmmmRXaJNYfcZWCAssPw</td>\n",
       "    </tr>\n",
       "    <tr>\n",
       "      <th>70</th>\n",
       "      <td>cY8H9XNP50jpuJl-7D5mJg</td>\n",
       "      <td>Best little family owned Chinese restaurant yo...</td>\n",
       "      <td>5</td>\n",
       "      <td>nm0nAlFfS9IE3F7WSyJM3A</td>\n",
       "    </tr>\n",
       "    <tr>\n",
       "      <th>71</th>\n",
       "      <td>cY8H9XNP50jpuJl-7D5mJg</td>\n",
       "      <td>This place has changed. Ownerships so some of ...</td>\n",
       "      <td>3</td>\n",
       "      <td>W5ile8ec40snDwWjyuNHzA</td>\n",
       "    </tr>\n",
       "    <tr>\n",
       "      <th>72</th>\n",
       "      <td>cY8H9XNP50jpuJl-7D5mJg</td>\n",
       "      <td>old customer of at least 20 yrs .\\nI got such ...</td>\n",
       "      <td>1</td>\n",
       "      <td>PIU7XjyzfbN8qmFmYEgpWg</td>\n",
       "    </tr>\n",
       "  </tbody>\n",
       "</table>\n",
       "</div>"
      ],
      "text/plain": [
       "               business_id                                               text  \\\n",
       "42  35VgbRQWRDvQrIku3OfqKA  Used to go here all the time before the new ow...   \n",
       "43  35VgbRQWRDvQrIku3OfqKA  We do love this local place. Today, we went fo...   \n",
       "44  35VgbRQWRDvQrIku3OfqKA  Okay for lunch, typical bar food. Server was s...   \n",
       "45  pW6jIK9Vu18vXigPTfNwUQ  We went here for taco and tequila fest. Paid $...   \n",
       "46  pW6jIK9Vu18vXigPTfNwUQ  Absolute trash. Go if you want to get assaulte...   \n",
       "47  pW6jIK9Vu18vXigPTfNwUQ  Oh, Park Street Cantina, I don't even know whe...   \n",
       "48  BDe-iiPm9Gb7B2qCzlQWCg  Excellent customer service! This is my wife's ...   \n",
       "49  BDe-iiPm9Gb7B2qCzlQWCg  I ordered the strawberry cake for a birthday p...   \n",
       "50  BDe-iiPm9Gb7B2qCzlQWCg  Service is poor (young lady didn't listen well...   \n",
       "51  CzVVb1PRNRlYk7PDvw8xSg  With new management breathing fresh air into t...   \n",
       "53  CzVVb1PRNRlYk7PDvw8xSg  Food...\\nIf you eat upstairs, you will be wait...   \n",
       "54  sv4wzbSTKg7tsIgutBtrBg  This park can be found hidden beneath the stre...   \n",
       "55  sv4wzbSTKg7tsIgutBtrBg  Glen Echo is a fun ravine to explore, nestled ...   \n",
       "57  sv4wzbSTKg7tsIgutBtrBg  I'm pretty shocked that I was born and raised ...   \n",
       "58  7MFm-vxs8hB1hk6VCthwGw  I've been to a couple places similar to aligne...   \n",
       "59  7MFm-vxs8hB1hk6VCthwGw  Each shake comes w a tea. The medium 24oz size...   \n",
       "60  7MFm-vxs8hB1hk6VCthwGw  My boyfriend brought me here after a workout t...   \n",
       "61  DLYOvwEIQcl555mDR3p05A  Front desk staff was friendly and they have a ...   \n",
       "62  DLYOvwEIQcl555mDR3p05A  I've been Bowling at this alley since it was B...   \n",
       "63  DLYOvwEIQcl555mDR3p05A  Been here a couple times, great! Food is a lit...   \n",
       "64  qF2D6-jN9b1TZYEalKALsQ  Excellent Excellent place.  Clean, bright, gre...   \n",
       "65  qF2D6-jN9b1TZYEalKALsQ  Food was good and fresh but this place is more...   \n",
       "66  qF2D6-jN9b1TZYEalKALsQ  The restaurant has been closed for several mon...   \n",
       "67  yvtU5tHbFLnm-ZLCQvMEeA  This could be the most perfectly paired tastin...   \n",
       "68  yvtU5tHbFLnm-ZLCQvMEeA  Open bar/food/whatever = wow! Big thanks to ev...   \n",
       "69  yvtU5tHbFLnm-ZLCQvMEeA  I'm brand new to Yelp Columbus since I moved a...   \n",
       "70  cY8H9XNP50jpuJl-7D5mJg  Best little family owned Chinese restaurant yo...   \n",
       "71  cY8H9XNP50jpuJl-7D5mJg  This place has changed. Ownerships so some of ...   \n",
       "72  cY8H9XNP50jpuJl-7D5mJg  old customer of at least 20 yrs .\\nI got such ...   \n",
       "\n",
       "    rating                 user_id  \n",
       "42       4  tYT1kCLO8qEkEUFGClQQRg  \n",
       "43       5  cAJJC0U8s22Wm3aPROw5SQ  \n",
       "44       4  k4biYB5Tavw-dwn-6tVbmA  \n",
       "45       3  Wu1hrty56b_dZDfLBaXJRg  \n",
       "46       1  WKllrAlPeSjX-ZM-XofDzA  \n",
       "47       3  _NpJZ0q8KVI-d2YLL_VpCA  \n",
       "48       5  7DCwwpe524F2AqZqTUGExg  \n",
       "49       5  gxOLcPG1VqMmCPDTWxZ5KQ  \n",
       "50       4  Q4LI1r0RWbpYWgvnhIYqRQ  \n",
       "51       5  Wx4ccSvTc2GG5aYbosaokA  \n",
       "53       4  IwFzSRfVeHrgxxYvSxqSEQ  \n",
       "54       4  _NpJZ0q8KVI-d2YLL_VpCA  \n",
       "55       5  _Kplrc1bDTce2Pw3xRr51A  \n",
       "57       5  WJfsYXAgwEo6Wkpuqjmqnw  \n",
       "58       5  yZjCfp5tg7-rYiTtiwSrzA  \n",
       "59       4  sNHrXB7aTHYpdaGb0pIV9g  \n",
       "60       4  UnTN_ktr9vpbhgyuGNwpgg  \n",
       "61       4  jKjvxNE3JI0BugGOhFNQEw  \n",
       "62       5  1fb-ERPS4Kpkxo2fowmlbg  \n",
       "63       5  crb-G-e-rwtx75oLG1L65A  \n",
       "64       5  5SYD87gd4-7f4YHs1UZaYA  \n",
       "65       3  syqQgE4KDLqmf7k68Psnpw  \n",
       "66       4  Ns3j7EYpEt0pQvb8p2tGVw  \n",
       "67       5  0Ge4hEQ8HYnrkfm8UHj2BQ  \n",
       "68       5  4rA-ZWXUcW9FkVhzuL5SQQ  \n",
       "69       5  xVVmmmRXaJNYfcZWCAssPw  \n",
       "70       5  nm0nAlFfS9IE3F7WSyJM3A  \n",
       "71       3  W5ile8ec40snDwWjyuNHzA  \n",
       "72       1  PIU7XjyzfbN8qmFmYEgpWg  "
      ]
     },
     "execution_count": 10,
     "metadata": {},
     "output_type": "execute_result"
    }
   ],
   "source": [
    "review_user = df_review[['business_id','text','rating','user_id']]\n",
    "#review_user = review_user.dropna(inplace=True)\n",
    "review_user = review_user[~review_user['business_id'].isnull()]\n",
    "review_user"
   ]
  },
  {
   "cell_type": "code",
   "execution_count": 11,
   "metadata": {},
   "outputs": [
    {
     "name": "stdout",
     "output_type": "stream",
     "text": [
      "['i', 'm e', 'm y', 'm y s e l f', 'w e', 'o u r', 'o u r s', 'o u r s e l v e s', 'y o u', 'y o u r e', 'y o u v e', 'y o u l l', 'y o u d', 'y o u r', 'y o u r s', 'y o u r s e l f', 'y o u r s e l v e s', 'h e', 'h i m', 'h i s', 'h i m s e l f', 's h e', 's h e s', 'h e r', 'h e r s', 'h e r s e l f', 'i t', 'i t s', 'i t s', 'i t s e l f', 't h e y', 't h e m', 't h e i r', 't h e i r s', 't h e m s e l v e s', 'w h a t', 'w h i c h', 'w h o', 'w h o m', 't h i s', 't h a t', 't h a t l l', 't h e s e', 't h o s e', 'a m', 'i s', 'a r e', 'w a s', 'w e r e', 'b e', 'b e e n', 'b e i n g', 'h a v e', 'h a s', 'h a d', 'h a v i n g', 'd o', 'd o e s', 'd i d', 'd o i n g', 'a', 'a n', 't h e', 'a n d', 'b u t', 'i f', 'o r', 'b e c a u s e', 'a s', 'u n t i l', 'w h i l e', 'o f', 'a t', 'b y', 'f o r', 'w i t h', 'a b o u t', 'a g a i n s t', 'b e t w e e n', 'i n t o', 't h r o u g h', 'd u r i n g', 'b e f o r e', 'a f t e r', 'a b o v e', 'b e l o w', 't o', 'f r o m', 'u p', 'd o w n', 'i n', 'o u t', 'o n', 'o f f', 'o v e r', 'u n d e r', 'a g a i n', 'f u r t h e r', 't h e n', 'o n c e', 'h e r e', 't h e r e', 'w h e n', 'w h e r e', 'w h y', 'h o w', 'a l l', 'a n y', 'b o t h', 'e a c h', 'f e w', 'm o r e', 'm o s t', 'o t h e r', 's o m e', 's u c h', 'n o', 'n o r', 'n o t', 'o n l y', 'o w n', 's a m e', 's o', 't h a n', 't o o', 'v e r y', 's', 't', 'c a n', 'w i l l', 'j u s t', 'd o n', 'd o n t', 's h o u l d', 's h o u l d v e', 'n o w', 'd', 'l l', 'm', 'o', 'r e', 'v e', 'y', 'a i n', 'a r e n', 'a r e n t', 'c o u l d n', 'c o u l d n t', 'd i d n', 'd i d n t', 'd o e s n', 'd o e s n t', 'h a d n', 'h a d n t', 'h a s n', 'h a s n t', 'h a v e n', 'h a v e n t', 'i s n', 'i s n t', 'm a', 'm i g h t n', 'm i g h t n t', 'm u s t n', 'm u s t n t', 'n e e d n', 'n e e d n t', 's h a n', 's h a n t', 's h o u l d n', 's h o u l d n t', 'w a s n', 'w a s n t', 'w e r e n', 'w e r e n t', 'w o n', 'w o n t', 'w o u l d n', 'w o u l d n t']\n"
     ]
    }
   ],
   "source": [
    "stop = []\n",
    "for word in stopwords.words('english'):\n",
    "    s = [char for char in word if char not in string.punctuation]\n",
    "    stop.append(' '.join(s))\n",
    "print(stop)"
   ]
  },
  {
   "cell_type": "code",
   "execution_count": 12,
   "metadata": {},
   "outputs": [],
   "source": [
    "def process(mess):\n",
    "    non_punc = [char for char in mess if char not in string.punctuation]\n",
    "    non_punc = ''.join(non_punc)\n",
    "    return \" \".join([word for word in non_punc.split() if word.lower() not in stop])"
   ]
  },
  {
   "cell_type": "code",
   "execution_count": null,
   "metadata": {},
   "outputs": [],
   "source": []
  },
  {
   "cell_type": "code",
   "execution_count": 13,
   "metadata": {},
   "outputs": [],
   "source": [
    "user_text = review_user[['user_id', 'text']]\n",
    "business_text = review_user[['business_id', 'text']]"
   ]
  },
  {
   "cell_type": "code",
   "execution_count": 14,
   "metadata": {},
   "outputs": [],
   "source": [
    "user_text = user_text.groupby('user_id').agg({'text': \" \".join})\n",
    "business_text = business_text.groupby('business_id').agg({'text': \" \".join})"
   ]
  },
  {
   "cell_type": "code",
   "execution_count": 15,
   "metadata": {},
   "outputs": [
    {
     "name": "stderr",
     "output_type": "stream",
     "text": [
      "c:\\Users\\admin\\AppData\\Local\\Programs\\Python\\Python311\\Lib\\site-packages\\sklearn\\feature_extraction\\text.py:525: UserWarning: The parameter 'token_pattern' will not be used since 'tokenizer' is not None'\n",
      "  warnings.warn(\n"
     ]
    },
    {
     "data": {
      "text/plain": [
       "(28, 411)"
      ]
     },
     "execution_count": 15,
     "metadata": {},
     "output_type": "execute_result"
    }
   ],
   "source": [
    "userid_vectorizer = TfidfVectorizer(tokenizer = WordPunctTokenizer().tokenize, max_features=5000)\n",
    "userid_vectors = userid_vectorizer.fit_transform(user_text['text'])\n",
    "userid_vectors.shape"
   ]
  },
  {
   "cell_type": "code",
   "execution_count": 16,
   "metadata": {},
   "outputs": [
    {
     "data": {
      "text/plain": [
       "(10, 411)"
      ]
     },
     "execution_count": 16,
     "metadata": {},
     "output_type": "execute_result"
    }
   ],
   "source": [
    "businessid_vectorizer = TfidfVectorizer(tokenizer = WordPunctTokenizer().tokenize, max_features=5000)\n",
    "businessid_vectors = businessid_vectorizer.fit_transform(business_text['text'])\n",
    "businessid_vectors.shape"
   ]
  },
  {
   "cell_type": "code",
   "execution_count": 17,
   "metadata": {},
   "outputs": [
    {
     "data": {
      "text/plain": [
       "(28, 10)"
      ]
     },
     "execution_count": 17,
     "metadata": {},
     "output_type": "execute_result"
    }
   ],
   "source": [
    "userid_rating_matrix = pd.pivot_table(review_user, values='rating', index=['user_id'], columns=['business_id'])\n",
    "userid_rating_matrix.shape"
   ]
  },
  {
   "cell_type": "code",
   "execution_count": 18,
   "metadata": {},
   "outputs": [],
   "source": [
    "P = pd.DataFrame(userid_vectors.toarray(), index=user_text.index, columns=userid_vectorizer.get_feature_names_out())\n",
    "Q = pd.DataFrame(businessid_vectors.toarray(), index=business_text.index, columns=businessid_vectorizer.get_feature_names_out())"
   ]
  },
  {
   "cell_type": "code",
   "execution_count": 19,
   "metadata": {},
   "outputs": [],
   "source": [
    "def matrix_factorization(R, P, Q, steps=25, gamma=0.001,lamda=0.02):\n",
    "    for step in range(steps):\n",
    "        for i in R.index:\n",
    "            for j in R.columns:\n",
    "                if R.loc[i,j]>0:\n",
    "                    eij=R.loc[i,j]-np.dot(P.loc[i],Q.loc[j])\n",
    "                    P.loc[i]=P.loc[i]+gamma*(eij*Q.loc[j]-lamda*P.loc[i])\n",
    "                    Q.loc[j]=Q.loc[j]+gamma*(eij*P.loc[i]-lamda*Q.loc[j])\n",
    "        e=0\n",
    "        for i in R.index:\n",
    "            for j in R.columns:\n",
    "                if R.loc[i,j]>0:\n",
    "                    e= e + pow(R.loc[i,j]-np.dot(P.loc[i],Q.loc[j]),2)+lamda*(pow(np.linalg.norm(P.loc[i]),2)+pow(np.linalg.norm(Q.loc[j]),2))\n",
    "        if e<0.001:\n",
    "            break\n",
    "    print(f\"Step:{step}\")\n",
    "    return P,Q"
   ]
  },
  {
   "cell_type": "code",
   "execution_count": 20,
   "metadata": {},
   "outputs": [
    {
     "name": "stdout",
     "output_type": "stream",
     "text": [
      "Step:24\n",
      "CPU times: total: 766 ms\n",
      "Wall time: 783 ms\n"
     ]
    }
   ],
   "source": [
    "%%time\n",
    "P, Q = matrix_factorization(userid_rating_matrix, P, Q, steps=25, gamma=0.001,lamda=0.02)"
   ]
  },
  {
   "cell_type": "code",
   "execution_count": 34,
   "metadata": {},
   "outputs": [
    {
     "name": "stdout",
     "output_type": "stream",
     "text": [
      "509    ParkStreetCantina\n",
      "Name: name, dtype: object\n",
      "Series([], Name: name, dtype: object)\n",
      "Series([], Name: name, dtype: object)\n",
      "Series([], Name: name, dtype: object)\n",
      "120    YinYueRestaurant\n",
      "Name: name, dtype: object\n",
      "Series([], Name: name, dtype: object)\n",
      "Series([], Name: name, dtype: object)\n"
     ]
    }
   ],
   "source": [
    "words = \"i want to have dinner with beautiful views\"\n",
    "test_df= pd.DataFrame([words], columns=['text'])\n",
    "test_df['text'] = test_df['text'].apply(process)\n",
    "test_vectors = userid_vectorizer.transform(test_df['text'])\n",
    "test_v_df = pd.DataFrame(test_vectors.toarray(), index=test_df.index, columns=userid_vectorizer.get_feature_names_out())\n",
    "\n",
    "predictItemRating=pd.DataFrame(np.dot(test_v_df.loc[0],Q.T),index=Q.index,columns=['Rating'])\n",
    "topRecommendations=pd.DataFrame.sort_values(predictItemRating,['Rating'],ascending=[0])[:7]\n",
    "\n",
    "#print(df_business[df_business['id'] == 'KJNWztNYuNysB1MVsX0FOA'])\n",
    "for i in topRecommendations.index:\n",
    "    print(df_business[df_business['id']==i]['name'])\n",
    "#    print(df_business[df_business['id']==i]['categories'])\n",
    "#    print(str(df_business[df_business['id']==i]['rating'])+ ' '+str(df_business[df_business['id']==i]['review_count']))\n",
    "#    print('')"
   ]
  },
  {
   "cell_type": "code",
   "execution_count": 35,
   "metadata": {},
   "outputs": [],
   "source": [
    "import pickle\n",
    "output = open('yelp_recommendation_model_8.pkl', 'wb')\n",
    "pickle.dump(P,output)\n",
    "pickle.dump(Q,output)\n",
    "pickle.dump(userid_vectorizer,output)\n",
    "output.close()"
   ]
  },
  {
   "cell_type": "code",
   "execution_count": null,
   "metadata": {},
   "outputs": [],
   "source": []
  }
 ],
 "metadata": {
  "kernelspec": {
   "display_name": "Python 3",
   "language": "python",
   "name": "python3"
  },
  "language_info": {
   "codemirror_mode": {
    "name": "ipython",
    "version": 3
   },
   "file_extension": ".py",
   "mimetype": "text/x-python",
   "name": "python",
   "nbconvert_exporter": "python",
   "pygments_lexer": "ipython3",
   "version": "3.11.4"
  },
  "orig_nbformat": 4
 },
 "nbformat": 4,
 "nbformat_minor": 2
}
