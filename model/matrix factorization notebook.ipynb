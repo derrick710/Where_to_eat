{
 "cells": [
  {
   "cell_type": "code",
   "execution_count": 47,
   "metadata": {},
   "outputs": [
    {
     "name": "stderr",
     "output_type": "stream",
     "text": [
      "[nltk_data] Downloading package stopwords to\n",
      "[nltk_data]     C:\\Users\\admin\\AppData\\Roaming\\nltk_data...\n",
      "[nltk_data]   Package stopwords is already up-to-date!\n"
     ]
    }
   ],
   "source": [
    "from nltk.corpus import stopwords\n",
    "from nltk.tokenize import WordPunctTokenizer\n",
    "import string\n",
    "import pandas as pd\n",
    "import nltk \n",
    "import numpy as np\n",
    "nltk.download('stopwords')\n",
    "from sklearn.feature_extraction.text import TfidfVectorizer"
   ]
  },
  {
   "cell_type": "code",
   "execution_count": 58,
   "metadata": {},
   "outputs": [
    {
     "ename": "TypeError",
     "evalue": "Passing a bool to header is invalid. Use header=None for no header or header=int or list-like of ints to specify the row(s) making up the column names",
     "output_type": "error",
     "traceback": [
      "\u001b[1;31m---------------------------------------------------------------------------\u001b[0m",
      "\u001b[1;31mTypeError\u001b[0m                                 Traceback (most recent call last)",
      "Cell \u001b[1;32mIn[58], line 1\u001b[0m\n\u001b[1;32m----> 1\u001b[0m df_business \u001b[39m=\u001b[39m pd\u001b[39m.\u001b[39;49mread_csv(\u001b[39m'\u001b[39;49m\u001b[39m../data_snapshot/business_snap.csv\u001b[39;49m\u001b[39m'\u001b[39;49m, header\u001b[39m=\u001b[39;49m\u001b[39mTrue\u001b[39;49;00m)\n\u001b[0;32m      2\u001b[0m df_review \u001b[39m=\u001b[39m pd\u001b[39m.\u001b[39mread_csv(\u001b[39m'\u001b[39m\u001b[39m../data_snapshot/review_snap.csv\u001b[39m\u001b[39m'\u001b[39m)\n\u001b[0;32m      3\u001b[0m \u001b[39mprint\u001b[39m(df_business)\n",
      "File \u001b[1;32mc:\\Users\\admin\\AppData\\Local\\Programs\\Python\\Python311\\Lib\\site-packages\\pandas\\io\\parsers\\readers.py:912\u001b[0m, in \u001b[0;36mread_csv\u001b[1;34m(filepath_or_buffer, sep, delimiter, header, names, index_col, usecols, dtype, engine, converters, true_values, false_values, skipinitialspace, skiprows, skipfooter, nrows, na_values, keep_default_na, na_filter, verbose, skip_blank_lines, parse_dates, infer_datetime_format, keep_date_col, date_parser, date_format, dayfirst, cache_dates, iterator, chunksize, compression, thousands, decimal, lineterminator, quotechar, quoting, doublequote, escapechar, comment, encoding, encoding_errors, dialect, on_bad_lines, delim_whitespace, low_memory, memory_map, float_precision, storage_options, dtype_backend)\u001b[0m\n\u001b[0;32m    899\u001b[0m kwds_defaults \u001b[39m=\u001b[39m _refine_defaults_read(\n\u001b[0;32m    900\u001b[0m     dialect,\n\u001b[0;32m    901\u001b[0m     delimiter,\n\u001b[1;32m   (...)\u001b[0m\n\u001b[0;32m    908\u001b[0m     dtype_backend\u001b[39m=\u001b[39mdtype_backend,\n\u001b[0;32m    909\u001b[0m )\n\u001b[0;32m    910\u001b[0m kwds\u001b[39m.\u001b[39mupdate(kwds_defaults)\n\u001b[1;32m--> 912\u001b[0m \u001b[39mreturn\u001b[39;00m _read(filepath_or_buffer, kwds)\n",
      "File \u001b[1;32mc:\\Users\\admin\\AppData\\Local\\Programs\\Python\\Python311\\Lib\\site-packages\\pandas\\io\\parsers\\readers.py:577\u001b[0m, in \u001b[0;36m_read\u001b[1;34m(filepath_or_buffer, kwds)\u001b[0m\n\u001b[0;32m    574\u001b[0m _validate_names(kwds\u001b[39m.\u001b[39mget(\u001b[39m\"\u001b[39m\u001b[39mnames\u001b[39m\u001b[39m\"\u001b[39m, \u001b[39mNone\u001b[39;00m))\n\u001b[0;32m    576\u001b[0m \u001b[39m# Create the parser.\u001b[39;00m\n\u001b[1;32m--> 577\u001b[0m parser \u001b[39m=\u001b[39m TextFileReader(filepath_or_buffer, \u001b[39m*\u001b[39;49m\u001b[39m*\u001b[39;49mkwds)\n\u001b[0;32m    579\u001b[0m \u001b[39mif\u001b[39;00m chunksize \u001b[39mor\u001b[39;00m iterator:\n\u001b[0;32m    580\u001b[0m     \u001b[39mreturn\u001b[39;00m parser\n",
      "File \u001b[1;32mc:\\Users\\admin\\AppData\\Local\\Programs\\Python\\Python311\\Lib\\site-packages\\pandas\\io\\parsers\\readers.py:1401\u001b[0m, in \u001b[0;36mTextFileReader.__init__\u001b[1;34m(self, f, engine, **kwds)\u001b[0m\n\u001b[0;32m   1398\u001b[0m \u001b[39mself\u001b[39m\u001b[39m.\u001b[39mnrows \u001b[39m=\u001b[39m options\u001b[39m.\u001b[39mpop(\u001b[39m\"\u001b[39m\u001b[39mnrows\u001b[39m\u001b[39m\"\u001b[39m, \u001b[39mNone\u001b[39;00m)\n\u001b[0;32m   1400\u001b[0m \u001b[39mself\u001b[39m\u001b[39m.\u001b[39m_check_file_or_buffer(f, engine)\n\u001b[1;32m-> 1401\u001b[0m \u001b[39mself\u001b[39m\u001b[39m.\u001b[39moptions, \u001b[39mself\u001b[39m\u001b[39m.\u001b[39mengine \u001b[39m=\u001b[39m \u001b[39mself\u001b[39;49m\u001b[39m.\u001b[39;49m_clean_options(options, engine)\n\u001b[0;32m   1403\u001b[0m \u001b[39mif\u001b[39;00m \u001b[39m\"\u001b[39m\u001b[39mhas_index_names\u001b[39m\u001b[39m\"\u001b[39m \u001b[39min\u001b[39;00m kwds:\n\u001b[0;32m   1404\u001b[0m     \u001b[39mself\u001b[39m\u001b[39m.\u001b[39moptions[\u001b[39m\"\u001b[39m\u001b[39mhas_index_names\u001b[39m\u001b[39m\"\u001b[39m] \u001b[39m=\u001b[39m kwds[\u001b[39m\"\u001b[39m\u001b[39mhas_index_names\u001b[39m\u001b[39m\"\u001b[39m]\n",
      "File \u001b[1;32mc:\\Users\\admin\\AppData\\Local\\Programs\\Python\\Python311\\Lib\\site-packages\\pandas\\io\\parsers\\readers.py:1571\u001b[0m, in \u001b[0;36mTextFileReader._clean_options\u001b[1;34m(self, options, engine)\u001b[0m\n\u001b[0;32m   1568\u001b[0m na_values \u001b[39m=\u001b[39m options[\u001b[39m\"\u001b[39m\u001b[39mna_values\u001b[39m\u001b[39m\"\u001b[39m]\n\u001b[0;32m   1569\u001b[0m skiprows \u001b[39m=\u001b[39m options[\u001b[39m\"\u001b[39m\u001b[39mskiprows\u001b[39m\u001b[39m\"\u001b[39m]\n\u001b[1;32m-> 1571\u001b[0m validate_header_arg(options[\u001b[39m\"\u001b[39;49m\u001b[39mheader\u001b[39;49m\u001b[39m\"\u001b[39;49m])\n\u001b[0;32m   1573\u001b[0m \u001b[39mif\u001b[39;00m index_col \u001b[39mis\u001b[39;00m \u001b[39mTrue\u001b[39;00m:\n\u001b[0;32m   1574\u001b[0m     \u001b[39mraise\u001b[39;00m \u001b[39mValueError\u001b[39;00m(\u001b[39m\"\u001b[39m\u001b[39mThe value of index_col couldn\u001b[39m\u001b[39m'\u001b[39m\u001b[39mt be \u001b[39m\u001b[39m'\u001b[39m\u001b[39mTrue\u001b[39m\u001b[39m'\u001b[39m\u001b[39m\"\u001b[39m)\n",
      "File \u001b[1;32mc:\\Users\\admin\\AppData\\Local\\Programs\\Python\\Python311\\Lib\\site-packages\\pandas\\io\\common.py:208\u001b[0m, in \u001b[0;36mvalidate_header_arg\u001b[1;34m(header)\u001b[0m\n\u001b[0;32m    206\u001b[0m     \u001b[39mreturn\u001b[39;00m\n\u001b[0;32m    207\u001b[0m \u001b[39mif\u001b[39;00m is_bool(header):\n\u001b[1;32m--> 208\u001b[0m     \u001b[39mraise\u001b[39;00m \u001b[39mTypeError\u001b[39;00m(\n\u001b[0;32m    209\u001b[0m         \u001b[39m\"\u001b[39m\u001b[39mPassing a bool to header is invalid. Use header=None for no header or \u001b[39m\u001b[39m\"\u001b[39m\n\u001b[0;32m    210\u001b[0m         \u001b[39m\"\u001b[39m\u001b[39mheader=int or list-like of ints to specify \u001b[39m\u001b[39m\"\u001b[39m\n\u001b[0;32m    211\u001b[0m         \u001b[39m\"\u001b[39m\u001b[39mthe row(s) making up the column names\u001b[39m\u001b[39m\"\u001b[39m\n\u001b[0;32m    212\u001b[0m     )\n\u001b[0;32m    213\u001b[0m \u001b[39m# GH 16338\u001b[39;00m\n\u001b[0;32m    214\u001b[0m \u001b[39mraise\u001b[39;00m \u001b[39mValueError\u001b[39;00m(\u001b[39m\"\u001b[39m\u001b[39mheader must be integer or list of integers\u001b[39m\u001b[39m\"\u001b[39m)\n",
      "\u001b[1;31mTypeError\u001b[0m: Passing a bool to header is invalid. Use header=None for no header or header=int or list-like of ints to specify the row(s) making up the column names"
     ]
    }
   ],
   "source": [
    "df_business = pd.read_csv('../data_snapshot/business_snap.csv')\n",
    "df_review = pd.read_csv('../data_snapshot/review_snap.csv')\n",
    "print(df_business)"
   ]
  },
  {
   "cell_type": "code",
   "execution_count": 12,
   "metadata": {},
   "outputs": [
    {
     "data": {
      "text/plain": [
       "Unnamed: 0    0\n",
       "0             0\n",
       "1             0\n",
       "2             0\n",
       "3             0\n",
       "4             0\n",
       "5             0\n",
       "6             0\n",
       "7             0\n",
       "8             0\n",
       "9             0\n",
       "10            0\n",
       "11            0\n",
       "dtype: int64"
      ]
     },
     "execution_count": 12,
     "metadata": {},
     "output_type": "execute_result"
    }
   ],
   "source": [
    "df_business.dropna(inplace=True)\n",
    "df_business.isna().sum()"
   ]
  },
  {
   "cell_type": "code",
   "execution_count": 13,
   "metadata": {},
   "outputs": [
    {
     "name": "stdout",
     "output_type": "stream",
     "text": [
      "<class 'pandas.core.frame.DataFrame'>\n",
      "Index: 339 entries, 0 to 471\n",
      "Data columns (total 13 columns):\n",
      " #   Column      Non-Null Count  Dtype  \n",
      "---  ------      --------------  -----  \n",
      " 0   Unnamed: 0  339 non-null    int64  \n",
      " 1   0           339 non-null    object \n",
      " 2   1           339 non-null    object \n",
      " 3   2           339 non-null    object \n",
      " 4   3           339 non-null    object \n",
      " 5   4           339 non-null    int64  \n",
      " 6   5           339 non-null    float64\n",
      " 7   6           339 non-null    float64\n",
      " 8   7           339 non-null    float64\n",
      " 9   8           339 non-null    float64\n",
      " 10  9           339 non-null    float64\n",
      " 11  10          339 non-null    object \n",
      " 12  11          339 non-null    object \n",
      "dtypes: float64(5), int64(2), object(6)\n",
      "memory usage: 37.1+ KB\n"
     ]
    }
   ],
   "source": [
    "df_business.columns"
   ]
  },
  {
   "cell_type": "code",
   "execution_count": 27,
   "metadata": {},
   "outputs": [
    {
     "data": {
      "text/html": [
       "<div>\n",
       "<style scoped>\n",
       "    .dataframe tbody tr th:only-of-type {\n",
       "        vertical-align: middle;\n",
       "    }\n",
       "\n",
       "    .dataframe tbody tr th {\n",
       "        vertical-align: top;\n",
       "    }\n",
       "\n",
       "    .dataframe thead th {\n",
       "        text-align: right;\n",
       "    }\n",
       "</style>\n",
       "<table border=\"1\" class=\"dataframe\">\n",
       "  <thead>\n",
       "    <tr style=\"text-align: right;\">\n",
       "      <th></th>\n",
       "      <th>0</th>\n",
       "      <th>1</th>\n",
       "      <th>2</th>\n",
       "      <th>4</th>\n",
       "    </tr>\n",
       "  </thead>\n",
       "  <tbody>\n",
       "    <tr>\n",
       "      <th>0</th>\n",
       "      <td>1XyJMWQ0fgWszG69vh3INA</td>\n",
       "      <td>Was seated and waited 30 mins without even bei...</td>\n",
       "      <td>1</td>\n",
       "      <td>WRUIUIVkz7F5IiH7XI8QcA</td>\n",
       "    </tr>\n",
       "    <tr>\n",
       "      <th>1</th>\n",
       "      <td>H4FhOjFivi4aMxeddxMPGg</td>\n",
       "      <td>ROASTED CHICKEN &amp; GOAT CHEESE PANINI \\n16.50 ~...</td>\n",
       "      <td>5</td>\n",
       "      <td>y0wA70QDTUeKS_VyLw7A7A</td>\n",
       "    </tr>\n",
       "    <tr>\n",
       "      <th>2</th>\n",
       "      <td>qLzO2mwYN3ti8dvAfpxePw</td>\n",
       "      <td>All the vibes!!  We dropped in on a Saturday w...</td>\n",
       "      <td>4</td>\n",
       "      <td>LDoa3UXbySRr0b2pcwrlnw</td>\n",
       "    </tr>\n",
       "    <tr>\n",
       "      <th>3</th>\n",
       "      <td>dONpgM2St8gaCZdnaWiTKw</td>\n",
       "      <td>I was so excited about the Food Truck Fest whe...</td>\n",
       "      <td>5</td>\n",
       "      <td>7DCwwpe524F2AqZqTUGExg</td>\n",
       "    </tr>\n",
       "    <tr>\n",
       "      <th>4</th>\n",
       "      <td>V4d7QNZtIbCfMXYcgR5LhA</td>\n",
       "      <td>This is the best Mexican restaurant in Gahanna...</td>\n",
       "      <td>5</td>\n",
       "      <td>7v5WWyFCONwphGxWqlncEw</td>\n",
       "    </tr>\n",
       "    <tr>\n",
       "      <th>...</th>\n",
       "      <td>...</td>\n",
       "      <td>...</td>\n",
       "      <td>...</td>\n",
       "      <td>...</td>\n",
       "    </tr>\n",
       "    <tr>\n",
       "      <th>1345</th>\n",
       "      <td>ignrbLkzTKrGaaL4jQ1lvA</td>\n",
       "      <td>The food is really incredible. I came here for...</td>\n",
       "      <td>5</td>\n",
       "      <td>GT_0_cScBHlj35KtTd7hSg</td>\n",
       "    </tr>\n",
       "    <tr>\n",
       "      <th>1346</th>\n",
       "      <td>yYBiqk7BeLP97LgnkTq4vA</td>\n",
       "      <td>You know how to tell the best ethnic restauran...</td>\n",
       "      <td>5</td>\n",
       "      <td>q1XC5SIh7EGTb4B_FYlsxg</td>\n",
       "    </tr>\n",
       "    <tr>\n",
       "      <th>1347</th>\n",
       "      <td>98Lkx4R4IuCUhntxFZyyAw</td>\n",
       "      <td>Good food but sometimes takes awhile to be ser...</td>\n",
       "      <td>3</td>\n",
       "      <td>qUMpWX-1mZsR18QRjABUsw</td>\n",
       "    </tr>\n",
       "    <tr>\n",
       "      <th>1348</th>\n",
       "      <td>iGx_o5RTELbevlqq2rBiXw</td>\n",
       "      <td>Great food truck. Met them at the Food Truck T...</td>\n",
       "      <td>5</td>\n",
       "      <td>DW1ddLY6wzPrbWQXPjWbPQ</td>\n",
       "    </tr>\n",
       "    <tr>\n",
       "      <th>1349</th>\n",
       "      <td>ggM1ua1_lKESodKllztEPg</td>\n",
       "      <td>These guys are awesome!\\nI love the revamped N...</td>\n",
       "      <td>4</td>\n",
       "      <td>nmdkHL2JKFx55T3nq5VziA</td>\n",
       "    </tr>\n",
       "  </tbody>\n",
       "</table>\n",
       "<p>1350 rows × 4 columns</p>\n",
       "</div>"
      ],
      "text/plain": [
       "                           0  \\\n",
       "0     1XyJMWQ0fgWszG69vh3INA   \n",
       "1     H4FhOjFivi4aMxeddxMPGg   \n",
       "2     qLzO2mwYN3ti8dvAfpxePw   \n",
       "3     dONpgM2St8gaCZdnaWiTKw   \n",
       "4     V4d7QNZtIbCfMXYcgR5LhA   \n",
       "...                      ...   \n",
       "1345  ignrbLkzTKrGaaL4jQ1lvA   \n",
       "1346  yYBiqk7BeLP97LgnkTq4vA   \n",
       "1347  98Lkx4R4IuCUhntxFZyyAw   \n",
       "1348  iGx_o5RTELbevlqq2rBiXw   \n",
       "1349  ggM1ua1_lKESodKllztEPg   \n",
       "\n",
       "                                                      1  2  \\\n",
       "0     Was seated and waited 30 mins without even bei...  1   \n",
       "1     ROASTED CHICKEN & GOAT CHEESE PANINI \\n16.50 ~...  5   \n",
       "2     All the vibes!!  We dropped in on a Saturday w...  4   \n",
       "3     I was so excited about the Food Truck Fest whe...  5   \n",
       "4     This is the best Mexican restaurant in Gahanna...  5   \n",
       "...                                                 ... ..   \n",
       "1345  The food is really incredible. I came here for...  5   \n",
       "1346  You know how to tell the best ethnic restauran...  5   \n",
       "1347  Good food but sometimes takes awhile to be ser...  3   \n",
       "1348  Great food truck. Met them at the Food Truck T...  5   \n",
       "1349  These guys are awesome!\\nI love the revamped N...  4   \n",
       "\n",
       "                           4  \n",
       "0     WRUIUIVkz7F5IiH7XI8QcA  \n",
       "1     y0wA70QDTUeKS_VyLw7A7A  \n",
       "2     LDoa3UXbySRr0b2pcwrlnw  \n",
       "3     7DCwwpe524F2AqZqTUGExg  \n",
       "4     7v5WWyFCONwphGxWqlncEw  \n",
       "...                      ...  \n",
       "1345  GT_0_cScBHlj35KtTd7hSg  \n",
       "1346  q1XC5SIh7EGTb4B_FYlsxg  \n",
       "1347  qUMpWX-1mZsR18QRjABUsw  \n",
       "1348  DW1ddLY6wzPrbWQXPjWbPQ  \n",
       "1349  nmdkHL2JKFx55T3nq5VziA  \n",
       "\n",
       "[1350 rows x 4 columns]"
      ]
     },
     "execution_count": 27,
     "metadata": {},
     "output_type": "execute_result"
    }
   ],
   "source": [
    "review_user = df_review[['0','1','2','4']]\n",
    "review_user"
   ]
  },
  {
   "cell_type": "code",
   "execution_count": 25,
   "metadata": {},
   "outputs": [
    {
     "name": "stdout",
     "output_type": "stream",
     "text": [
      "['i', 'm e', 'm y', 'm y s e l f', 'w e', 'o u r', 'o u r s', 'o u r s e l v e s', 'y o u', 'y o u r e', 'y o u v e', 'y o u l l', 'y o u d', 'y o u r', 'y o u r s', 'y o u r s e l f', 'y o u r s e l v e s', 'h e', 'h i m', 'h i s', 'h i m s e l f', 's h e', 's h e s', 'h e r', 'h e r s', 'h e r s e l f', 'i t', 'i t s', 'i t s', 'i t s e l f', 't h e y', 't h e m', 't h e i r', 't h e i r s', 't h e m s e l v e s', 'w h a t', 'w h i c h', 'w h o', 'w h o m', 't h i s', 't h a t', 't h a t l l', 't h e s e', 't h o s e', 'a m', 'i s', 'a r e', 'w a s', 'w e r e', 'b e', 'b e e n', 'b e i n g', 'h a v e', 'h a s', 'h a d', 'h a v i n g', 'd o', 'd o e s', 'd i d', 'd o i n g', 'a', 'a n', 't h e', 'a n d', 'b u t', 'i f', 'o r', 'b e c a u s e', 'a s', 'u n t i l', 'w h i l e', 'o f', 'a t', 'b y', 'f o r', 'w i t h', 'a b o u t', 'a g a i n s t', 'b e t w e e n', 'i n t o', 't h r o u g h', 'd u r i n g', 'b e f o r e', 'a f t e r', 'a b o v e', 'b e l o w', 't o', 'f r o m', 'u p', 'd o w n', 'i n', 'o u t', 'o n', 'o f f', 'o v e r', 'u n d e r', 'a g a i n', 'f u r t h e r', 't h e n', 'o n c e', 'h e r e', 't h e r e', 'w h e n', 'w h e r e', 'w h y', 'h o w', 'a l l', 'a n y', 'b o t h', 'e a c h', 'f e w', 'm o r e', 'm o s t', 'o t h e r', 's o m e', 's u c h', 'n o', 'n o r', 'n o t', 'o n l y', 'o w n', 's a m e', 's o', 't h a n', 't o o', 'v e r y', 's', 't', 'c a n', 'w i l l', 'j u s t', 'd o n', 'd o n t', 's h o u l d', 's h o u l d v e', 'n o w', 'd', 'l l', 'm', 'o', 'r e', 'v e', 'y', 'a i n', 'a r e n', 'a r e n t', 'c o u l d n', 'c o u l d n t', 'd i d n', 'd i d n t', 'd o e s n', 'd o e s n t', 'h a d n', 'h a d n t', 'h a s n', 'h a s n t', 'h a v e n', 'h a v e n t', 'i s n', 'i s n t', 'm a', 'm i g h t n', 'm i g h t n t', 'm u s t n', 'm u s t n t', 'n e e d n', 'n e e d n t', 's h a n', 's h a n t', 's h o u l d n', 's h o u l d n t', 'w a s n', 'w a s n t', 'w e r e n', 'w e r e n t', 'w o n', 'w o n t', 'w o u l d n', 'w o u l d n t']\n"
     ]
    }
   ],
   "source": [
    "stop = []\n",
    "for word in stopwords.words('english'):\n",
    "    s = [char for char in word if char not in string.punctuation]\n",
    "    stop.append(' '.join(s))\n",
    "print(stop)"
   ]
  },
  {
   "cell_type": "code",
   "execution_count": 26,
   "metadata": {},
   "outputs": [],
   "source": [
    "def process(mess):\n",
    "    non_punc = [char for char in mess if char not in string.punctuation]\n",
    "    non_punc = ''.join(non_punc)\n",
    "    return \" \".join([word for word in non_punc.split() if word.lower() not in stop])"
   ]
  },
  {
   "cell_type": "code",
   "execution_count": 33,
   "metadata": {},
   "outputs": [
    {
     "name": "stderr",
     "output_type": "stream",
     "text": [
      "C:\\Users\\admin\\AppData\\Local\\Temp\\ipykernel_20728\\1109201922.py:1: SettingWithCopyWarning: \n",
      "A value is trying to be set on a copy of a slice from a DataFrame\n",
      "\n",
      "See the caveats in the documentation: https://pandas.pydata.org/pandas-docs/stable/user_guide/indexing.html#returning-a-view-versus-a-copy\n",
      "  review_user.rename(columns={'0':'business_id','1':'text','2':'rating','4':'user_id'}, inplace=True )\n"
     ]
    }
   ],
   "source": [
    "review_user.rename(columns={'0':'business_id','1':'text','2':'rating','4':'user_id'}, inplace=True )"
   ]
  },
  {
   "cell_type": "code",
   "execution_count": 35,
   "metadata": {},
   "outputs": [],
   "source": [
    "user_text = review_user[['user_id', 'text']]\n",
    "business_text = review_user[['business_id', 'text']]"
   ]
  },
  {
   "cell_type": "code",
   "execution_count": 36,
   "metadata": {},
   "outputs": [],
   "source": [
    "user_text = user_text.groupby('user_id').agg({'text': \" \".join})\n",
    "business_text = business_text.groupby('business_id').agg({'text': \" \".join})"
   ]
  },
  {
   "cell_type": "code",
   "execution_count": 39,
   "metadata": {},
   "outputs": [
    {
     "name": "stderr",
     "output_type": "stream",
     "text": [
      "c:\\Users\\admin\\AppData\\Local\\Programs\\Python\\Python311\\Lib\\site-packages\\sklearn\\feature_extraction\\text.py:525: UserWarning: The parameter 'token_pattern' will not be used since 'tokenizer' is not None'\n",
      "  warnings.warn(\n"
     ]
    },
    {
     "data": {
      "text/plain": [
       "(896, 4289)"
      ]
     },
     "execution_count": 39,
     "metadata": {},
     "output_type": "execute_result"
    }
   ],
   "source": [
    "userid_vectorizer = TfidfVectorizer(tokenizer = WordPunctTokenizer().tokenize, max_features=5000)\n",
    "userid_vectors = userid_vectorizer.fit_transform(user_text['text'])\n",
    "userid_vectors.shape"
   ]
  },
  {
   "cell_type": "code",
   "execution_count": 40,
   "metadata": {},
   "outputs": [
    {
     "name": "stderr",
     "output_type": "stream",
     "text": [
      "c:\\Users\\admin\\AppData\\Local\\Programs\\Python\\Python311\\Lib\\site-packages\\sklearn\\feature_extraction\\text.py:525: UserWarning: The parameter 'token_pattern' will not be used since 'tokenizer' is not None'\n",
      "  warnings.warn(\n"
     ]
    },
    {
     "data": {
      "text/plain": [
       "(1318, 4289)"
      ]
     },
     "execution_count": 40,
     "metadata": {},
     "output_type": "execute_result"
    }
   ],
   "source": [
    "businessid_vectorizer = TfidfVectorizer(tokenizer = WordPunctTokenizer().tokenize, max_features=5000)\n",
    "businessid_vectors = businessid_vectorizer.fit_transform(business_text['text'])\n",
    "businessid_vectors.shape"
   ]
  },
  {
   "cell_type": "code",
   "execution_count": 43,
   "metadata": {},
   "outputs": [
    {
     "data": {
      "text/plain": [
       "(896, 1318)"
      ]
     },
     "execution_count": 43,
     "metadata": {},
     "output_type": "execute_result"
    }
   ],
   "source": [
    "userid_rating_matrix = pd.pivot_table(review_user, values='rating', index=['user_id'], columns=['business_id'])\n",
    "userid_rating_matrix.shape"
   ]
  },
  {
   "cell_type": "code",
   "execution_count": 44,
   "metadata": {},
   "outputs": [],
   "source": [
    "P = pd.DataFrame(userid_vectors.toarray(), index=user_text.index, columns=userid_vectorizer.get_feature_names_out())\n",
    "Q = pd.DataFrame(businessid_vectors.toarray(), index=business_text.index, columns=businessid_vectorizer.get_feature_names_out())"
   ]
  },
  {
   "cell_type": "code",
   "execution_count": 45,
   "metadata": {},
   "outputs": [],
   "source": [
    "def matrix_factorization(R, P, Q, steps=25, gamma=0.001,lamda=0.02):\n",
    "    for step in range(steps):\n",
    "        for i in R.index:\n",
    "            for j in R.columns:\n",
    "                if R.loc[i,j]>0:\n",
    "                    eij=R.loc[i,j]-np.dot(P.loc[i],Q.loc[j])\n",
    "                    P.loc[i]=P.loc[i]+gamma*(eij*Q.loc[j]-lamda*P.loc[i])\n",
    "                    Q.loc[j]=Q.loc[j]+gamma*(eij*P.loc[i]-lamda*Q.loc[j])\n",
    "        e=0\n",
    "        for i in R.index:\n",
    "            for j in R.columns:\n",
    "                if R.loc[i,j]>0:\n",
    "                    e= e + pow(R.loc[i,j]-np.dot(P.loc[i],Q.loc[j]),2)+lamda*(pow(np.linalg.norm(P.loc[i]),2)+pow(np.linalg.norm(Q.loc[j]),2))\n",
    "        if e<0.001:\n",
    "            break\n",
    "        \n",
    "    return P,Q"
   ]
  },
  {
   "cell_type": "code",
   "execution_count": 48,
   "metadata": {},
   "outputs": [
    {
     "name": "stdout",
     "output_type": "stream",
     "text": [
      "CPU times: total: 5min 54s\n",
      "Wall time: 5min 55s\n"
     ]
    }
   ],
   "source": [
    "%%time\n",
    "P, Q = matrix_factorization(userid_rating_matrix, P, Q, steps=25, gamma=0.001,lamda=0.02)"
   ]
  },
  {
   "cell_type": "code",
   "execution_count": 57,
   "metadata": {},
   "outputs": [
    {
     "name": "stdout",
     "output_type": "stream",
     "text": [
      "KJNWztNYuNysB1MVsX0FOA\n",
      "0      False\n",
      "3      False\n",
      "5      False\n",
      "6      False\n",
      "7      False\n",
      "       ...  \n",
      "464    False\n",
      "467    False\n",
      "468    False\n",
      "469    False\n",
      "471    False\n",
      "Name: 0, Length: 339, dtype: bool\n",
      "qWkqQM3zcfS4zWPO32UXAA\n",
      "0      False\n",
      "3      False\n",
      "5      False\n",
      "6      False\n",
      "7      False\n",
      "       ...  \n",
      "464    False\n",
      "467    False\n",
      "468    False\n",
      "469    False\n",
      "471    False\n",
      "Name: 0, Length: 339, dtype: bool\n",
      "oGTvgrrc-_EnuBQXyXTjng\n",
      "0      False\n",
      "3      False\n",
      "5      False\n",
      "6      False\n",
      "7      False\n",
      "       ...  \n",
      "464    False\n",
      "467    False\n",
      "468    False\n",
      "469    False\n",
      "471    False\n",
      "Name: 0, Length: 339, dtype: bool\n",
      "blwpnVEzzao7VqnckTRV8w\n",
      "0      False\n",
      "3      False\n",
      "5      False\n",
      "6      False\n",
      "7      False\n",
      "       ...  \n",
      "464    False\n",
      "467    False\n",
      "468    False\n",
      "469    False\n",
      "471    False\n",
      "Name: 0, Length: 339, dtype: bool\n",
      "XTX8l2ABSrEKfzZM9ViRRQ\n",
      "0      False\n",
      "3      False\n",
      "5      False\n",
      "6      False\n",
      "7      False\n",
      "       ...  \n",
      "464    False\n",
      "467    False\n",
      "468    False\n",
      "469    False\n",
      "471    False\n",
      "Name: 0, Length: 339, dtype: bool\n",
      "4YEqmRI_cssTSczAInjO7A\n",
      "0      False\n",
      "3      False\n",
      "5      False\n",
      "6      False\n",
      "7      False\n",
      "       ...  \n",
      "464    False\n",
      "467    False\n",
      "468    False\n",
      "469    False\n",
      "471    False\n",
      "Name: 0, Length: 339, dtype: bool\n",
      "SccfQzUDWixC3st0bP_Rcg\n",
      "0      False\n",
      "3      False\n",
      "5      False\n",
      "6      False\n",
      "7      False\n",
      "       ...  \n",
      "464    False\n",
      "467    False\n",
      "468    False\n",
      "469    False\n",
      "471    False\n",
      "Name: 0, Length: 339, dtype: bool\n"
     ]
    }
   ],
   "source": [
    "words = \"i want to have dinner with beautiful views\"\n",
    "test_df= pd.DataFrame([words], columns=['text'])\n",
    "test_df['text'] = test_df['text'].apply(process)\n",
    "test_vectors = userid_vectorizer.transform(test_df['text'])\n",
    "test_v_df = pd.DataFrame(test_vectors.toarray(), index=test_df.index, columns=userid_vectorizer.get_feature_names_out())\n",
    "\n",
    "predictItemRating=pd.DataFrame(np.dot(test_v_df.loc[0],Q.T),index=Q.index,columns=['Rating'])\n",
    "topRecommendations=pd.DataFrame.sort_values(predictItemRating,['Rating'],ascending=[0])[:7]\n",
    "\n",
    "for i in topRecommendations.index:\n",
    "    print(df_business[df_business['0']==i]['2'].iloc[0])\n",
    "    print(df_business[df_business['0']==i]['10'].iloc[0])\n",
    "    print(str(df_business[df_business['0']==i]['9'].iloc[0])+ ' '+str(df_business[df_business['0']==i]['4'].iloc[0]))\n",
    "    print('')"
   ]
  },
  {
   "cell_type": "code",
   "execution_count": null,
   "metadata": {},
   "outputs": [],
   "source": []
  }
 ],
 "metadata": {
  "kernelspec": {
   "display_name": "Python 3",
   "language": "python",
   "name": "python3"
  },
  "language_info": {
   "codemirror_mode": {
    "name": "ipython",
    "version": 3
   },
   "file_extension": ".py",
   "mimetype": "text/x-python",
   "name": "python",
   "nbconvert_exporter": "python",
   "pygments_lexer": "ipython3",
   "version": "3.11.4"
  },
  "orig_nbformat": 4
 },
 "nbformat": 4,
 "nbformat_minor": 2
}
